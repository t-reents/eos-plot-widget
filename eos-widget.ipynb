{
 "cells": [
  {
   "cell_type": "code",
   "execution_count": 2,
   "metadata": {},
   "outputs": [],
   "source": [
    "from acwf_eos_widget.widget import Widget\n",
    "import shutil\n",
    "import atexit"
   ]
  },
  {
   "cell_type": "code",
   "execution_count": null,
   "metadata": {},
   "outputs": [],
   "source": [
    "w = Widget()\n",
    "w.display()"
   ]
  },
  {
   "cell_type": "code",
   "execution_count": null,
   "metadata": {},
   "outputs": [],
   "source": [
    "def cleanup_temp_dir(temp_dir):\n",
    "    try:\n",
    "        shutil.rmtree(temp_dir)\n",
    "        print(f\"Cleaned up temporary directory: {temp_dir}\")\n",
    "    except Exception as e:\n",
    "        print(f\"Error cleaning up temporary directory: {e}\")\n",
    "\n",
    "_ = atexit.register(cleanup_temp_dir, temp_dir=w.temp_dir)"
   ]
  }
 ],
 "metadata": {
  "kernelspec": {
   "display_name": "aiida-cwf",
   "language": "python",
   "name": "python3"
  },
  "language_info": {
   "codemirror_mode": {
    "name": "ipython",
    "version": 3
   },
   "file_extension": ".py",
   "mimetype": "text/x-python",
   "name": "python",
   "nbconvert_exporter": "python",
   "pygments_lexer": "ipython3",
   "version": "3.11.6"
  }
 },
 "nbformat": 4,
 "nbformat_minor": 2
}
